{
 "cells": [
  {
   "cell_type": "code",
   "execution_count": 10,
   "metadata": {
    "collapsed": true
   },
   "outputs": [],
   "source": [
    "import pandas as pd\n",
    "import numpy as np"
   ]
  },
  {
   "cell_type": "code",
   "execution_count": 24,
   "metadata": {},
   "outputs": [
    {
     "data": {
      "text/plain": [
       "numpy.bool_"
      ]
     },
     "execution_count": 24,
     "metadata": {},
     "output_type": "execute_result"
    }
   ],
   "source": [
    "data = pd.read_csv('training_data_2_csv_UTF.csv', encoding=\"ISO-8859-1\")\n",
    "test_data = pd.read_csv('test_data_4_students.csv', encoding=\"ISO-8859-1\")\n",
    "\n",
    "# data = pd.concat([data1, data2])\n",
    "data.shape\n",
    "data.fillna(\"111111111111111\", inplace = True)\n",
    "#bernoulli_data_fill = np.array(data[['verified', 'default_profile', 'default_profile_image', 'has_extended_profile']], str)\n",
    "# status = data['status']\n",
    "# s = str({'truncated': False, 'entities': {'user_mentions': [], 'urls': [{'expanded_url': 'http://fb.me/86OhswRKN', 'url': 'https://t.co/SAsgNKob7x', 'display_url': 'fb.me/86OhswRKN', 'indices': [64, 87]}], 'hashtags': [], 'symbols': []}, 'in_reply_to_status_id_str': None, 'created_at': 'Sat Mar 11 11:46:30 +0000 2017', 'id_str': '840529361245753345', 'in_reply_to_user_id': None, 'contributors': None, 'favorited': False, 'retweet_count': 0, 'favorite_count': 0, 'place': None, 'in_reply_to_screen_name': None, 'retweeted': False, 'source': '<a href=\"http://www.facebook.com/twitter\" rel=\"nofollow\">Facebook</a>', 'lang': 'en', 'possibly_sensitive': False, 'in_reply_to_user_id_str': None, 'is_quote_status': False, 'id': 840529361245753345, 'text': '10 Facts About Brain Work Which Prove We?€?re Capable of Anything https://t.co/SAsgNKob7x', 'coordinates': None, 'in_reply_to_status_id': None, 'geo': None})\n",
    "# d = ast.literal_eval(s)\n",
    "# d['truncated']\n",
    "test_data.shape\n",
    "type(data['verified'][2])"
   ]
  },
  {
   "cell_type": "code",
   "execution_count": 12,
   "metadata": {},
   "outputs": [],
   "source": [
    "from sklearn.feature_extraction.text import CountVectorizer\n",
    "from sklearn.cross_validation import cross_val_score\n",
    "from sklearn.naive_bayes import MultinomialNB\n",
    "from sklearn.naive_bayes import BernoulliNB"
   ]
  },
  {
   "cell_type": "code",
   "execution_count": 13,
   "metadata": {},
   "outputs": [
    {
     "name": "stdout",
     "output_type": "stream",
     "text": [
      "(2797, 20)\n(2797, 8998)\n"
     ]
    }
   ],
   "source": [
    "vz = CountVectorizer()\n",
    "#data['description'].fillna(\"!@#$%&\", inplace = True)\n",
    "print(data.shape)\n",
    "Y = vz.fit_transform(data['description'])\n",
    "print(Y.shape)"
   ]
  },
  {
   "cell_type": "code",
   "execution_count": 14,
   "metadata": {},
   "outputs": [],
   "source": [
    "clf1 = MultinomialNB().fit(Y,data['bot'])\n",
    "clf2 = BernoulliNB().fit(Y, data['bot'])"
   ]
  },
  {
   "cell_type": "code",
   "execution_count": 15,
   "metadata": {},
   "outputs": [
    {
     "name": "stdout",
     "output_type": "stream",
     "text": [
      "Multinomial accuracy: 0.754035515212\n"
     ]
    }
   ],
   "source": [
    "print('Multinomial accuracy: ' + str(np.mean(cross_val_score(clf1, Y, data['bot'],cv=10, scoring='accuracy'))))"
   ]
  },
  {
   "cell_type": "code",
   "execution_count": 17,
   "metadata": {},
   "outputs": [
    {
     "name": "stdout",
     "output_type": "stream",
     "text": [
      "Multinomial accuracy: 0.754035515212\n"
     ]
    }
   ],
   "source": [
    "from sklearn import model_selection\n",
    "from sklearn.ensemble import BaggingClassifier\n",
    "from sklearn.tree import DecisionTreeClassifier\n",
    "from sklearn.ensemble import RandomForestClassifier\n",
    "bagging_data = data[['verified', 'default_profile', 'default_profile_image', 'has_extended_profile']]\n",
    "seed = 7\n",
    "num_trees = 100\n",
    "max_features = 4\n",
    "kfold = model_selection.KFold(n_splits=10, random_state=seed)\n",
    "model = RandomForestClassifier(n_estimators=num_trees, max_features=max_features)\n",
    "results = model_selection.cross_val_score(model, bagging_data, data['bot'], cv=5)\n",
    "print('Multinomial accuracy: ' + str(np.mean(cross_val_score(clf1, Y, data['bot'],cv=10, scoring='accuracy'))))"
   ]
  },
  {
   "cell_type": "code",
   "execution_count": 18,
   "metadata": {},
   "outputs": [
    {
     "name": "stdout",
     "output_type": "stream",
     "text": [
      "(Neural Network)Accuracy is :0.472291684604\n"
     ]
    },
    {
     "name": "stdout",
     "output_type": "stream",
     "text": [
      "(Neural Network)Precision is :0.472291684604\n"
     ]
    },
    {
     "name": "stdout",
     "output_type": "stream",
     "text": [
      "(Neural Network)Recall is :1.0\n"
     ]
    },
    {
     "name": "stdout",
     "output_type": "stream",
     "text": [
      "(Neural Network)F1 is :0.641573526253\n"
     ]
    },
    {
     "name": "stdout",
     "output_type": "stream",
     "text": [
      "(Neural Network)ROC_AUC is :0.403863635054\n"
     ]
    }
   ],
   "source": [
    "from sklearn.neural_network import MLPClassifier\n",
    "mlpclf = MLPClassifier(solver='lbfgs', alpha=1e-5, hidden_layer_sizes=(10, 10, 10), random_state=1, max_iter = 300)\n",
    "sclf = mlpclf.fit(bagging_data , data['bot'])\n",
    "bscores = np.mean(cross_val_score(sclf, bagging_data , data['bot'], cv=5, scoring = 'accuracy'))\n",
    "print(\"(Neural Network)Accuracy is :\" + str(bscores))\n",
    "bscores = np.mean(cross_val_score(sclf, bagging_data , data['bot'], cv=5, scoring = 'precision'))\n",
    "print(\"(Neural Network)Precision is :\" + str(bscores))\n",
    "bscores = np.mean(cross_val_score(sclf, bagging_data , data['bot'], cv=5, scoring = 'recall'))\n",
    "print(\"(Neural Network)Recall is :\" + str(bscores))\n",
    "bscores = np.mean(cross_val_score(sclf, bagging_data , data['bot'], cv=5, scoring = 'f1'))\n",
    "print(\"(Neural Network)F1 is :\" + str(bscores))\n",
    "bscores = np.mean(cross_val_score(sclf, bagging_data , data['bot'], cv=5, scoring = 'roc_auc'))\n",
    "print(\"(Neural Network)ROC_AUC is :\" + str(bscores))"
   ]
  },
  {
   "cell_type": "code",
   "execution_count": null,
   "metadata": {},
   "outputs": [],
   "source": [
    "sclf.predict"
   ]
  }
 ],
 "metadata": {
  "kernelspec": {
   "display_name": "Python 2",
   "language": "python",
   "name": "python2"
  },
  "language_info": {
   "codemirror_mode": {
    "name": "ipython",
    "version": 2.0
   },
   "file_extension": ".py",
   "mimetype": "text/x-python",
   "name": "python",
   "nbconvert_exporter": "python",
   "pygments_lexer": "ipython2",
   "version": "2.7.6"
  }
 },
 "nbformat": 4,
 "nbformat_minor": 0
}